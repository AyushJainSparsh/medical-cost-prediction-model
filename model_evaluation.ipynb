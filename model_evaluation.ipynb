{
 "cells": [
  {
   "cell_type": "code",
   "execution_count": 1,
   "id": "00e785ff-6a63-4505-a026-de74527c000d",
   "metadata": {},
   "outputs": [],
   "source": [
    "import pandas as pd\n",
    "import numpy as np\n",
    "from sklearn.model_selection import train_test_split\n",
    "from sklearn.preprocessing import StandardScaler\n",
    "from sklearn.tree import DecisionTreeRegressor\n",
    "from sklearn.linear_model import LinearRegression\n",
    "from sklearn.svm import SVR\n",
    "from sklearn.linear_model import ElasticNetCV \n",
    "from sklearn.metrics import mean_absolute_error,mean_squared_error,root_mean_squared_error,r2_score"
   ]
  },
  {
   "cell_type": "markdown",
   "id": "2da02d2a-fad8-4feb-bb77-ea8bd8255f05",
   "metadata": {
    "jp-MarkdownHeadingCollapsed": true
   },
   "source": [
    "---\n",
    "# Model Evalution without Hyper Parameter tunning"
   ]
  },
  {
   "cell_type": "code",
   "execution_count": 3,
   "id": "ba649253-7271-49b8-9fa4-e831ecdf931e",
   "metadata": {},
   "outputs": [],
   "source": [
    "def model_evaluation(models):\n",
    "    mae = []\n",
    "    mse = []\n",
    "    rmse = []\n",
    "    score = []\n",
    "    for model in models :\n",
    "        model.fit(X_train , y_train)\n",
    "        y_pred = model.predict(X_test)\n",
    "        mae.append(mean_absolute_error(y_test , y_pred))\n",
    "        mse.append(mean_squared_error(y_test , y_pred))\n",
    "        rmse.append(root_mean_squared_error(y_test , y_pred))\n",
    "        score.append(r2_score(y_test , y_pred))\n",
    "    model_performance = {\n",
    "        \"Model\" : models,\n",
    "        \"mean_absolute_error\" : mae,\n",
    "        \"mean_squared_error\" : mse,\n",
    "        \"root_mean_squared_error\" : rmse,\n",
    "        \"r2_score\" : score\n",
    "    }\n",
    "    return pd.DataFrame(model_performance)"
   ]
  },
  {
   "cell_type": "code",
   "execution_count": 4,
   "id": "083a2faa-077f-4f24-a49b-8fd7b2aa769e",
   "metadata": {},
   "outputs": [
    {
     "data": {
      "text/html": [
       "<div>\n",
       "<style scoped>\n",
       "    .dataframe tbody tr th:only-of-type {\n",
       "        vertical-align: middle;\n",
       "    }\n",
       "\n",
       "    .dataframe tbody tr th {\n",
       "        vertical-align: top;\n",
       "    }\n",
       "\n",
       "    .dataframe thead th {\n",
       "        text-align: right;\n",
       "    }\n",
       "</style>\n",
       "<table border=\"1\" class=\"dataframe\">\n",
       "  <thead>\n",
       "    <tr style=\"text-align: right;\">\n",
       "      <th></th>\n",
       "      <th>Unnamed: 0</th>\n",
       "      <th>Age</th>\n",
       "      <th>BMI</th>\n",
       "      <th>Children</th>\n",
       "      <th>Sex</th>\n",
       "      <th>Smoker</th>\n",
       "      <th>Region</th>\n",
       "      <th>Medical Cost</th>\n",
       "    </tr>\n",
       "  </thead>\n",
       "  <tbody>\n",
       "    <tr>\n",
       "      <th>0</th>\n",
       "      <td>0</td>\n",
       "      <td>58</td>\n",
       "      <td>15.6</td>\n",
       "      <td>2</td>\n",
       "      <td>1</td>\n",
       "      <td>1</td>\n",
       "      <td>1</td>\n",
       "      <td>17907.54</td>\n",
       "    </tr>\n",
       "    <tr>\n",
       "      <th>1</th>\n",
       "      <td>1</td>\n",
       "      <td>24</td>\n",
       "      <td>29.8</td>\n",
       "      <td>0</td>\n",
       "      <td>1</td>\n",
       "      <td>1</td>\n",
       "      <td>0</td>\n",
       "      <td>16312.64</td>\n",
       "    </tr>\n",
       "    <tr>\n",
       "      <th>2</th>\n",
       "      <td>2</td>\n",
       "      <td>50</td>\n",
       "      <td>29.0</td>\n",
       "      <td>5</td>\n",
       "      <td>1</td>\n",
       "      <td>0</td>\n",
       "      <td>1</td>\n",
       "      <td>6819.21</td>\n",
       "    </tr>\n",
       "  </tbody>\n",
       "</table>\n",
       "</div>"
      ],
      "text/plain": [
       "   Unnamed: 0  Age   BMI  Children  Sex  Smoker  Region  Medical Cost\n",
       "0           0   58  15.6         2    1       1       1      17907.54\n",
       "1           1   24  29.8         0    1       1       0      16312.64\n",
       "2           2   50  29.0         5    1       0       1       6819.21"
      ]
     },
     "execution_count": 4,
     "metadata": {},
     "output_type": "execute_result"
    }
   ],
   "source": [
    "dataframe = pd.read_csv(r'dataset.csv')\n",
    "dataframe.head(3)"
   ]
  },
  {
   "cell_type": "code",
   "execution_count": 5,
   "id": "bd61e66b-84db-4e7f-8348-99dc0b6c8c4c",
   "metadata": {},
   "outputs": [],
   "source": [
    "X = dataframe.drop(\"Medical Cost\" , axis = 1)\n",
    "y = dataframe[\"Medical Cost\"]"
   ]
  },
  {
   "cell_type": "code",
   "execution_count": 6,
   "id": "eca1ab1b-89f2-4fea-9575-fddef1fc6415",
   "metadata": {},
   "outputs": [],
   "source": [
    "X_train , X_test , y_train , y_test = train_test_split( X , y , test_size = 0.2 , random_state = 42 )"
   ]
  },
  {
   "cell_type": "code",
   "execution_count": 7,
   "id": "3bb07b22-809f-4d06-93da-45f700717a09",
   "metadata": {},
   "outputs": [
    {
     "data": {
      "text/plain": [
       "array([[ 0.42961263, -1.71072636, -0.56872694, ...,  1.00075028,\n",
       "        -1.00225254,  1.33325889],\n",
       "       [-0.11342351, -0.04704423,  0.63054456, ...,  1.00075028,\n",
       "         0.99775253, -0.44902386],\n",
       "       [-1.1361185 ,  0.67629583,  1.14057956, ..., -0.99925028,\n",
       "         0.99775253, -1.34016524],\n",
       "       ...,\n",
       "       [ 0.98407747,  0.89329784,  0.12050955, ..., -0.99925028,\n",
       "        -1.00225254, -0.44902386],\n",
       "       [-1.35638061,  0.60396182, -1.42338019, ...,  1.00075028,\n",
       "        -1.00225254,  0.44211752],\n",
       "       [ 0.66407403,  1.6889719 ,  0.36863469, ..., -0.99925028,\n",
       "        -1.00225254, -0.44902386]])"
      ]
     },
     "execution_count": 7,
     "metadata": {},
     "output_type": "execute_result"
    }
   ],
   "source": [
    "scaler = StandardScaler()\n",
    "scaler.fit_transform(X_train)\n",
    "scaler.transform(X_test)"
   ]
  },
  {
   "cell_type": "code",
   "execution_count": 8,
   "id": "a6764d32-e589-4bf5-84b9-de81adf0896e",
   "metadata": {},
   "outputs": [],
   "source": [
    "models = [ DecisionTreeRegressor() , LinearRegression() , SVR() , ElasticNetCV() ]"
   ]
  },
  {
   "cell_type": "code",
   "execution_count": 9,
   "id": "64a8e7cb-63ea-482f-882c-58197dcb7711",
   "metadata": {},
   "outputs": [
    {
     "data": {
      "text/html": [
       "<div>\n",
       "<style scoped>\n",
       "    .dataframe tbody tr th:only-of-type {\n",
       "        vertical-align: middle;\n",
       "    }\n",
       "\n",
       "    .dataframe tbody tr th {\n",
       "        vertical-align: top;\n",
       "    }\n",
       "\n",
       "    .dataframe thead th {\n",
       "        text-align: right;\n",
       "    }\n",
       "</style>\n",
       "<table border=\"1\" class=\"dataframe\">\n",
       "  <thead>\n",
       "    <tr style=\"text-align: right;\">\n",
       "      <th></th>\n",
       "      <th>Model</th>\n",
       "      <th>mean_absolute_error</th>\n",
       "      <th>mean_squared_error</th>\n",
       "      <th>root_mean_squared_error</th>\n",
       "      <th>r2_score</th>\n",
       "    </tr>\n",
       "  </thead>\n",
       "  <tbody>\n",
       "    <tr>\n",
       "      <th>0</th>\n",
       "      <td>DecisionTreeRegressor()</td>\n",
       "      <td>349.071005</td>\n",
       "      <td>1.850648e+05</td>\n",
       "      <td>430.191551</td>\n",
       "      <td>0.994966</td>\n",
       "    </tr>\n",
       "    <tr>\n",
       "      <th>1</th>\n",
       "      <td>LinearRegression()</td>\n",
       "      <td>253.036231</td>\n",
       "      <td>8.502977e+04</td>\n",
       "      <td>291.598647</td>\n",
       "      <td>0.997687</td>\n",
       "    </tr>\n",
       "    <tr>\n",
       "      <th>2</th>\n",
       "      <td>SVR()</td>\n",
       "      <td>6072.547516</td>\n",
       "      <td>5.352823e+07</td>\n",
       "      <td>7316.298736</td>\n",
       "      <td>-0.456162</td>\n",
       "    </tr>\n",
       "    <tr>\n",
       "      <th>3</th>\n",
       "      <td>ElasticNetCV()</td>\n",
       "      <td>5978.259730</td>\n",
       "      <td>3.597629e+07</td>\n",
       "      <td>5998.023569</td>\n",
       "      <td>0.021315</td>\n",
       "    </tr>\n",
       "  </tbody>\n",
       "</table>\n",
       "</div>"
      ],
      "text/plain": [
       "                     Model  mean_absolute_error  mean_squared_error  \\\n",
       "0  DecisionTreeRegressor()           349.071005        1.850648e+05   \n",
       "1       LinearRegression()           253.036231        8.502977e+04   \n",
       "2                    SVR()          6072.547516        5.352823e+07   \n",
       "3           ElasticNetCV()          5978.259730        3.597629e+07   \n",
       "\n",
       "   root_mean_squared_error  r2_score  \n",
       "0               430.191551  0.994966  \n",
       "1               291.598647  0.997687  \n",
       "2              7316.298736 -0.456162  \n",
       "3              5998.023569  0.021315  "
      ]
     },
     "execution_count": 9,
     "metadata": {},
     "output_type": "execute_result"
    }
   ],
   "source": [
    "performance_result = model_evaluation(models)\n",
    "performance_result"
   ]
  },
  {
   "cell_type": "markdown",
   "id": "fc8f8654-ce97-4b3c-9776-226a872190c2",
   "metadata": {
    "jp-MarkdownHeadingCollapsed": true
   },
   "source": [
    "---\n",
    "# Model Evaluation with Hyper Parameter Tunning"
   ]
  },
  {
   "cell_type": "code",
   "execution_count": 11,
   "id": "929c04c2-866a-48da-a6c4-a11bbf7b0035",
   "metadata": {},
   "outputs": [],
   "source": [
    "from sklearn.model_selection import GridSearchCV"
   ]
  },
  {
   "cell_type": "code",
   "execution_count": 12,
   "id": "aa78fe98-dbb1-4853-ad1d-14e9feaaa2a9",
   "metadata": {},
   "outputs": [],
   "source": [
    "def performance_result_hyperparameter_tunning(models , params):\n",
    "    best_params = []\n",
    "    mae = []\n",
    "    mse = []\n",
    "    rmse = []\n",
    "    score = []\n",
    "    for i in range(len(models)) :\n",
    "        grid = GridSearchCV(estimator= models[i] , param_grid= params[i] , scoring = 'r2')\n",
    "        grid.fit(X_train , y_train)\n",
    "        best_params.append(grid.best_params_)\n",
    "        y_pred = grid.predict(X_test)\n",
    "        mae.append(mean_absolute_error(y_test , y_pred))\n",
    "        mse.append(mean_squared_error(y_test , y_pred))\n",
    "        rmse.append(root_mean_squared_error(y_test , y_pred))\n",
    "        score.append(r2_score(y_test , y_pred))\n",
    "    model_performance = {\n",
    "        \"Model\" : models,\n",
    "        \"best_params\" : best_params,\n",
    "        \"mean_absolute_error\" : mae,\n",
    "        \"mean_squared_error\" : mse,\n",
    "        \"root_mean_squared_error\" : rmse,\n",
    "        \"r2_score\" : score\n",
    "    }\n",
    "    return pd.DataFrame(model_performance)"
   ]
  },
  {
   "cell_type": "code",
   "execution_count": 13,
   "id": "f5abcc82-c628-4e09-b1cc-2d9c326d54ad",
   "metadata": {},
   "outputs": [
    {
     "data": {
      "text/plain": [
       "\"\\nmodels_hyper = [ DecisionTreeRegressor() , SVR() , ElasticNetCV() ]\\nparams = {\\n    0 : dict(criterion = [ 'squared_error' , 'friedman_mse' ] ,\\n     splitter =  [ 'best' ,  'random' ] ),\\n    1 : dict(kernel = ['linear', 'poly', 'rbf'],\\n     gamma = ['scale', 'auto']),\\n    2 : dict(l1_ratio = [.1, .5, .7, .9, .95, 1],\\n     selection = ['cyclic', 'random'])\\n} \\n\""
      ]
     },
     "execution_count": 13,
     "metadata": {},
     "output_type": "execute_result"
    }
   ],
   "source": [
    "'''\n",
    "models_hyper = [ DecisionTreeRegressor() , SVR() , ElasticNetCV() ]\n",
    "params = {\n",
    "    0 : dict(criterion = [ 'squared_error' , 'friedman_mse' ] ,\n",
    "     splitter =  [ 'best' ,  'random' ] ),\n",
    "    1 : dict(kernel = ['linear', 'poly', 'rbf'],\n",
    "     gamma = ['scale', 'auto']),\n",
    "    2 : dict(l1_ratio = [.1, .5, .7, .9, .95, 1],\n",
    "     selection = ['cyclic', 'random'])\n",
    "} \n",
    "'''"
   ]
  },
  {
   "cell_type": "code",
   "execution_count": 14,
   "id": "d1ce39eb-9edc-48a7-b11f-788a346ce197",
   "metadata": {},
   "outputs": [],
   "source": [
    "#performance_result_hyperparameter_tunning = performance_result_hyperparameter_tunning(models_hyper , params)"
   ]
  },
  {
   "cell_type": "code",
   "execution_count": 15,
   "id": "b108c73a-f986-439a-8b75-b0d9959a7d76",
   "metadata": {},
   "outputs": [],
   "source": [
    "#performance_result_hyperparameter_tunning"
   ]
  },
  {
   "cell_type": "markdown",
   "id": "36a22c4a-7873-4390-a0e5-8ae226fa0dfa",
   "metadata": {
    "jp-MarkdownHeadingCollapsed": true
   },
   "source": [
    "---\n",
    "# Model Evaluation of Ensemblers"
   ]
  },
  {
   "cell_type": "code",
   "execution_count": 17,
   "id": "4337aba1-24a7-49e3-a463-c84647095386",
   "metadata": {},
   "outputs": [],
   "source": [
    "from sklearn import ensemble"
   ]
  },
  {
   "cell_type": "code",
   "execution_count": 18,
   "id": "2c64214c-6f48-4e6a-87fe-52150c2520c3",
   "metadata": {},
   "outputs": [],
   "source": [
    "from sklearn.ensemble import RandomForestRegressor\n",
    "from sklearn.ensemble import AdaBoostRegressor\n",
    "from sklearn.ensemble import BaggingRegressor\n",
    "from sklearn.ensemble import ExtraTreesRegressor\n",
    "from sklearn.ensemble import GradientBoostingRegressor\n",
    "from sklearn.ensemble import HistGradientBoostingRegressor\n",
    "from sklearn.ensemble import StackingRegressor\n",
    "from sklearn.ensemble import VotingRegressor"
   ]
  },
  {
   "cell_type": "code",
   "execution_count": 19,
   "id": "718884b1-2f7c-4602-a177-822ca79c725b",
   "metadata": {},
   "outputs": [],
   "source": [
    "models_ensemble = [ RandomForestRegressor() , AdaBoostRegressor() , \n",
    "                    BaggingRegressor() , ExtraTreesRegressor() , \n",
    "                    GradientBoostingRegressor() , HistGradientBoostingRegressor()\n",
    "                  ]"
   ]
  },
  {
   "cell_type": "code",
   "execution_count": 20,
   "id": "410c90ab-2962-4a2a-a78a-9cef73ac9189",
   "metadata": {},
   "outputs": [],
   "source": [
    "performance_result_ensembler = model_evaluation(models_ensemble)"
   ]
  },
  {
   "cell_type": "code",
   "execution_count": 21,
   "id": "d3e3ff64-e9b3-477f-882f-0a131636598e",
   "metadata": {},
   "outputs": [
    {
     "data": {
      "text/html": [
       "<div>\n",
       "<style scoped>\n",
       "    .dataframe tbody tr th:only-of-type {\n",
       "        vertical-align: middle;\n",
       "    }\n",
       "\n",
       "    .dataframe tbody tr th {\n",
       "        vertical-align: top;\n",
       "    }\n",
       "\n",
       "    .dataframe thead th {\n",
       "        text-align: right;\n",
       "    }\n",
       "</style>\n",
       "<table border=\"1\" class=\"dataframe\">\n",
       "  <thead>\n",
       "    <tr style=\"text-align: right;\">\n",
       "      <th></th>\n",
       "      <th>Model</th>\n",
       "      <th>mean_absolute_error</th>\n",
       "      <th>mean_squared_error</th>\n",
       "      <th>root_mean_squared_error</th>\n",
       "      <th>r2_score</th>\n",
       "    </tr>\n",
       "  </thead>\n",
       "  <tbody>\n",
       "    <tr>\n",
       "      <th>0</th>\n",
       "      <td>(DecisionTreeRegressor(max_features=1.0, rando...</td>\n",
       "      <td>268.107872</td>\n",
       "      <td>100479.487757</td>\n",
       "      <td>316.984996</td>\n",
       "      <td>0.997267</td>\n",
       "    </tr>\n",
       "    <tr>\n",
       "      <th>1</th>\n",
       "      <td>(DecisionTreeRegressor(max_depth=3, random_sta...</td>\n",
       "      <td>291.923477</td>\n",
       "      <td>125603.010319</td>\n",
       "      <td>354.405150</td>\n",
       "      <td>0.996583</td>\n",
       "    </tr>\n",
       "    <tr>\n",
       "      <th>2</th>\n",
       "      <td>(DecisionTreeRegressor(random_state=923185866)...</td>\n",
       "      <td>274.960367</td>\n",
       "      <td>108178.026637</td>\n",
       "      <td>328.904282</td>\n",
       "      <td>0.997057</td>\n",
       "    </tr>\n",
       "    <tr>\n",
       "      <th>3</th>\n",
       "      <td>(ExtraTreeRegressor(random_state=1942930675), ...</td>\n",
       "      <td>278.826572</td>\n",
       "      <td>110003.051608</td>\n",
       "      <td>331.667079</td>\n",
       "      <td>0.997008</td>\n",
       "    </tr>\n",
       "    <tr>\n",
       "      <th>4</th>\n",
       "      <td>([DecisionTreeRegressor(criterion='friedman_ms...</td>\n",
       "      <td>255.158355</td>\n",
       "      <td>87079.292691</td>\n",
       "      <td>295.092007</td>\n",
       "      <td>0.997631</td>\n",
       "    </tr>\n",
       "    <tr>\n",
       "      <th>5</th>\n",
       "      <td>HistGradientBoostingRegressor()</td>\n",
       "      <td>257.476145</td>\n",
       "      <td>89298.752746</td>\n",
       "      <td>298.828969</td>\n",
       "      <td>0.997571</td>\n",
       "    </tr>\n",
       "  </tbody>\n",
       "</table>\n",
       "</div>"
      ],
      "text/plain": [
       "                                               Model  mean_absolute_error  \\\n",
       "0  (DecisionTreeRegressor(max_features=1.0, rando...           268.107872   \n",
       "1  (DecisionTreeRegressor(max_depth=3, random_sta...           291.923477   \n",
       "2  (DecisionTreeRegressor(random_state=923185866)...           274.960367   \n",
       "3  (ExtraTreeRegressor(random_state=1942930675), ...           278.826572   \n",
       "4  ([DecisionTreeRegressor(criterion='friedman_ms...           255.158355   \n",
       "5                    HistGradientBoostingRegressor()           257.476145   \n",
       "\n",
       "   mean_squared_error  root_mean_squared_error  r2_score  \n",
       "0       100479.487757               316.984996  0.997267  \n",
       "1       125603.010319               354.405150  0.996583  \n",
       "2       108178.026637               328.904282  0.997057  \n",
       "3       110003.051608               331.667079  0.997008  \n",
       "4        87079.292691               295.092007  0.997631  \n",
       "5        89298.752746               298.828969  0.997571  "
      ]
     },
     "execution_count": 21,
     "metadata": {},
     "output_type": "execute_result"
    }
   ],
   "source": [
    "performance_result_ensembler"
   ]
  },
  {
   "cell_type": "markdown",
   "id": "de019d76-cc43-46f3-93ed-82f53c6bf85a",
   "metadata": {
    "jp-MarkdownHeadingCollapsed": true
   },
   "source": [
    "---\n",
    "# pickling scaler object"
   ]
  },
  {
   "cell_type": "code",
   "execution_count": 23,
   "id": "34b75c09-e2a9-42ab-903f-b89896118b6f",
   "metadata": {},
   "outputs": [],
   "source": [
    "import pickle as pkl\n",
    "#with open('Scaler.pkl' , 'wb') as file:\n",
    "#    pkl.dump(scaler , file)"
   ]
  },
  {
   "cell_type": "markdown",
   "id": "f7608d0e-4290-4dfc-8bc2-f041430ffbee",
   "metadata": {
    "jp-MarkdownHeadingCollapsed": true
   },
   "source": [
    "---\n",
    "# pickling GradientBoostingRegressor"
   ]
  },
  {
   "cell_type": "code",
   "execution_count": 47,
   "id": "4bd34440-f418-4e71-97a5-37b4ae1579a2",
   "metadata": {},
   "outputs": [],
   "source": [
    "model = GradientBoostingRegressor().fit(X_train , y_train)\n",
    "#with open('model.pkl' , 'wb') as file:\n",
    " #   pkl.dump(model , file)"
   ]
  }
 ],
 "metadata": {
  "kernelspec": {
   "display_name": "Python 3 (ipykernel)",
   "language": "python",
   "name": "python3"
  },
  "language_info": {
   "codemirror_mode": {
    "name": "ipython",
    "version": 3
   },
   "file_extension": ".py",
   "mimetype": "text/x-python",
   "name": "python",
   "nbconvert_exporter": "python",
   "pygments_lexer": "ipython3",
   "version": "3.12.4"
  }
 },
 "nbformat": 4,
 "nbformat_minor": 5
}
