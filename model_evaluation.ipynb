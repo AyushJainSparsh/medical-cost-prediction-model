{
 "cells": [
  {
   "cell_type": "code",
   "execution_count": 1,
   "id": "00e785ff-6a63-4505-a026-de74527c000d",
   "metadata": {},
   "outputs": [],
   "source": [
    "import pandas as pd\n",
    "import numpy as np\n",
    "from sklearn.model_selection import train_test_split\n",
    "from sklearn.preprocessing import StandardScaler\n",
    "from sklearn.tree import DecisionTreeRegressor\n",
    "from sklearn.linear_model import LinearRegression\n",
    "from sklearn.svm import SVR\n",
    "from sklearn.linear_model import ElasticNetCV \n",
    "from sklearn.metrics import mean_absolute_error,mean_squared_error,root_mean_squared_error,r2_score"
   ]
  },
  {
   "cell_type": "markdown",
   "id": "2da02d2a-fad8-4feb-bb77-ea8bd8255f05",
   "metadata": {},
   "source": [
    "---\n",
    "# Model Evalution without Hyper Parameter tunning"
   ]
  },
  {
   "cell_type": "code",
   "execution_count": 4,
   "id": "ba649253-7271-49b8-9fa4-e831ecdf931e",
   "metadata": {},
   "outputs": [],
   "source": [
    "def model_evaluation(models):\n",
    "    mae = []\n",
    "    mse = []\n",
    "    rmse = []\n",
    "    score = []\n",
    "    for model in models :\n",
    "        model.fit(X_train , y_train)\n",
    "        y_pred = model.predict(X_test)\n",
    "        mae.append(mean_absolute_error(y_test , y_pred))\n",
    "        mse.append(mean_squared_error(y_test , y_pred))\n",
    "        rmse.append(root_mean_squared_error(y_test , y_pred))\n",
    "        score.append(r2_score(y_test , y_pred))\n",
    "    model_performance = {\n",
    "        \"Model\" : models,\n",
    "        \"mean_absolute_error\" : mae,\n",
    "        \"mean_squared_error\" : mse,\n",
    "        \"root_mean_squared_error\" : rmse,\n",
    "        \"r2_score\" : score\n",
    "    }\n",
    "    return pd.DataFrame(model_performance)"
   ]
  },
  {
   "cell_type": "code",
   "execution_count": 6,
   "id": "083a2faa-077f-4f24-a49b-8fd7b2aa769e",
   "metadata": {},
   "outputs": [
    {
     "data": {
      "text/html": [
       "<div>\n",
       "<style scoped>\n",
       "    .dataframe tbody tr th:only-of-type {\n",
       "        vertical-align: middle;\n",
       "    }\n",
       "\n",
       "    .dataframe tbody tr th {\n",
       "        vertical-align: top;\n",
       "    }\n",
       "\n",
       "    .dataframe thead th {\n",
       "        text-align: right;\n",
       "    }\n",
       "</style>\n",
       "<table border=\"1\" class=\"dataframe\">\n",
       "  <thead>\n",
       "    <tr style=\"text-align: right;\">\n",
       "      <th></th>\n",
       "      <th>Age</th>\n",
       "      <th>BMI</th>\n",
       "      <th>Children</th>\n",
       "      <th>Sex</th>\n",
       "      <th>Smoker</th>\n",
       "      <th>Region</th>\n",
       "      <th>Medical Cost</th>\n",
       "    </tr>\n",
       "  </thead>\n",
       "  <tbody>\n",
       "    <tr>\n",
       "      <th>0</th>\n",
       "      <td>58</td>\n",
       "      <td>15.6</td>\n",
       "      <td>2</td>\n",
       "      <td>1</td>\n",
       "      <td>1</td>\n",
       "      <td>1</td>\n",
       "      <td>17907.54</td>\n",
       "    </tr>\n",
       "    <tr>\n",
       "      <th>1</th>\n",
       "      <td>24</td>\n",
       "      <td>29.8</td>\n",
       "      <td>0</td>\n",
       "      <td>1</td>\n",
       "      <td>1</td>\n",
       "      <td>0</td>\n",
       "      <td>16312.64</td>\n",
       "    </tr>\n",
       "    <tr>\n",
       "      <th>2</th>\n",
       "      <td>50</td>\n",
       "      <td>29.0</td>\n",
       "      <td>5</td>\n",
       "      <td>1</td>\n",
       "      <td>0</td>\n",
       "      <td>1</td>\n",
       "      <td>6819.21</td>\n",
       "    </tr>\n",
       "  </tbody>\n",
       "</table>\n",
       "</div>"
      ],
      "text/plain": [
       "   Age   BMI  Children  Sex  Smoker  Region  Medical Cost\n",
       "0   58  15.6         2    1       1       1      17907.54\n",
       "1   24  29.8         0    1       1       0      16312.64\n",
       "2   50  29.0         5    1       0       1       6819.21"
      ]
     },
     "execution_count": 6,
     "metadata": {},
     "output_type": "execute_result"
    }
   ],
   "source": [
    "dataframe = pd.read_csv(r'dataset.csv')\n",
    "dataframe.drop('Unnamed: 0' , axis = 1 , inplace=True)\n",
    "dataframe.head(3)"
   ]
  },
  {
   "cell_type": "code",
   "execution_count": 8,
   "id": "bd61e66b-84db-4e7f-8348-99dc0b6c8c4c",
   "metadata": {},
   "outputs": [],
   "source": [
    "X = dataframe.drop(\"Medical Cost\" , axis = 1)\n",
    "y = dataframe[\"Medical Cost\"]"
   ]
  },
  {
   "cell_type": "code",
   "execution_count": 10,
   "id": "eca1ab1b-89f2-4fea-9575-fddef1fc6415",
   "metadata": {},
   "outputs": [],
   "source": [
    "X_train , X_test , y_train , y_test = train_test_split( X , y , test_size = 0.2 , random_state = 42 )"
   ]
  },
  {
   "cell_type": "code",
   "execution_count": 12,
   "id": "3bb07b22-809f-4d06-93da-45f700717a09",
   "metadata": {},
   "outputs": [],
   "source": [
    "scaler = StandardScaler()\n",
    "X_train = scaler.fit_transform(X_train)\n",
    "X_test = scaler.transform(X_test)"
   ]
  },
  {
   "cell_type": "code",
   "execution_count": 14,
   "id": "a6764d32-e589-4bf5-84b9-de81adf0896e",
   "metadata": {},
   "outputs": [],
   "source": [
    "models = [ DecisionTreeRegressor() , LinearRegression() , SVR() , ElasticNetCV() ]"
   ]
  },
  {
   "cell_type": "code",
   "execution_count": 16,
   "id": "64a8e7cb-63ea-482f-882c-58197dcb7711",
   "metadata": {},
   "outputs": [
    {
     "data": {
      "text/html": [
       "<div>\n",
       "<style scoped>\n",
       "    .dataframe tbody tr th:only-of-type {\n",
       "        vertical-align: middle;\n",
       "    }\n",
       "\n",
       "    .dataframe tbody tr th {\n",
       "        vertical-align: top;\n",
       "    }\n",
       "\n",
       "    .dataframe thead th {\n",
       "        text-align: right;\n",
       "    }\n",
       "</style>\n",
       "<table border=\"1\" class=\"dataframe\">\n",
       "  <thead>\n",
       "    <tr style=\"text-align: right;\">\n",
       "      <th></th>\n",
       "      <th>Model</th>\n",
       "      <th>mean_absolute_error</th>\n",
       "      <th>mean_squared_error</th>\n",
       "      <th>root_mean_squared_error</th>\n",
       "      <th>r2_score</th>\n",
       "    </tr>\n",
       "  </thead>\n",
       "  <tbody>\n",
       "    <tr>\n",
       "      <th>0</th>\n",
       "      <td>DecisionTreeRegressor()</td>\n",
       "      <td>347.500010</td>\n",
       "      <td>1.800618e+05</td>\n",
       "      <td>424.336864</td>\n",
       "      <td>0.995102</td>\n",
       "    </tr>\n",
       "    <tr>\n",
       "      <th>1</th>\n",
       "      <td>LinearRegression()</td>\n",
       "      <td>252.932010</td>\n",
       "      <td>8.493536e+04</td>\n",
       "      <td>291.436709</td>\n",
       "      <td>0.997689</td>\n",
       "    </tr>\n",
       "    <tr>\n",
       "      <th>2</th>\n",
       "      <td>SVR()</td>\n",
       "      <td>5564.241996</td>\n",
       "      <td>4.483071e+07</td>\n",
       "      <td>6695.573807</td>\n",
       "      <td>-0.219558</td>\n",
       "    </tr>\n",
       "    <tr>\n",
       "      <th>3</th>\n",
       "      <td>ElasticNetCV()</td>\n",
       "      <td>5148.587853</td>\n",
       "      <td>2.704522e+07</td>\n",
       "      <td>5200.501766</td>\n",
       "      <td>0.264272</td>\n",
       "    </tr>\n",
       "  </tbody>\n",
       "</table>\n",
       "</div>"
      ],
      "text/plain": [
       "                     Model  mean_absolute_error  mean_squared_error  \\\n",
       "0  DecisionTreeRegressor()           347.500010        1.800618e+05   \n",
       "1       LinearRegression()           252.932010        8.493536e+04   \n",
       "2                    SVR()          5564.241996        4.483071e+07   \n",
       "3           ElasticNetCV()          5148.587853        2.704522e+07   \n",
       "\n",
       "   root_mean_squared_error  r2_score  \n",
       "0               424.336864  0.995102  \n",
       "1               291.436709  0.997689  \n",
       "2              6695.573807 -0.219558  \n",
       "3              5200.501766  0.264272  "
      ]
     },
     "execution_count": 16,
     "metadata": {},
     "output_type": "execute_result"
    }
   ],
   "source": [
    "performance_result = model_evaluation(models)\n",
    "performance_result"
   ]
  },
  {
   "cell_type": "markdown",
   "id": "fc8f8654-ce97-4b3c-9776-226a872190c2",
   "metadata": {},
   "source": [
    "---\n",
    "# Model Evaluation with Hyper Parameter Tunning"
   ]
  },
  {
   "cell_type": "code",
   "execution_count": 18,
   "id": "929c04c2-866a-48da-a6c4-a11bbf7b0035",
   "metadata": {},
   "outputs": [],
   "source": [
    "from sklearn.model_selection import GridSearchCV"
   ]
  },
  {
   "cell_type": "code",
   "execution_count": 19,
   "id": "aa78fe98-dbb1-4853-ad1d-14e9feaaa2a9",
   "metadata": {},
   "outputs": [],
   "source": [
    "def performance_result_hyperparameter_tunning(models , params):\n",
    "    best_params = []\n",
    "    mae = []\n",
    "    mse = []\n",
    "    rmse = []\n",
    "    score = []\n",
    "    for i in range(len(models)) :\n",
    "        grid = GridSearchCV(estimator= models[i] , param_grid= params[i] , scoring = 'r2')\n",
    "        grid.fit(X_train , y_train)\n",
    "        best_params.append(grid.best_params_)\n",
    "        y_pred = grid.predict(X_test)\n",
    "        mae.append(mean_absolute_error(y_test , y_pred))\n",
    "        mse.append(mean_squared_error(y_test , y_pred))\n",
    "        rmse.append(root_mean_squared_error(y_test , y_pred))\n",
    "        score.append(r2_score(y_test , y_pred))\n",
    "    model_performance = {\n",
    "        \"Model\" : models,\n",
    "        \"best_params\" : best_params,\n",
    "        \"mean_absolute_error\" : mae,\n",
    "        \"mean_squared_error\" : mse,\n",
    "        \"root_mean_squared_error\" : rmse,\n",
    "        \"r2_score\" : score\n",
    "    }\n",
    "    return pd.DataFrame(model_performance)"
   ]
  },
  {
   "cell_type": "code",
   "execution_count": 20,
   "id": "f5abcc82-c628-4e09-b1cc-2d9c326d54ad",
   "metadata": {},
   "outputs": [
    {
     "data": {
      "text/plain": [
       "\"\\nmodels_hyper = [ DecisionTreeRegressor() , SVR() , ElasticNetCV() ]\\nparams = {\\n    0 : dict(criterion = [ 'squared_error' , 'friedman_mse' ] ,\\n     splitter =  [ 'best' ,  'random' ] ),\\n    1 : dict(kernel = ['linear', 'poly', 'rbf'],\\n     gamma = ['scale', 'auto']),\\n    2 : dict(l1_ratio = [.1, .5, .7, .9, .95, 1],\\n     selection = ['cyclic', 'random'])\\n} \\n\""
      ]
     },
     "execution_count": 20,
     "metadata": {},
     "output_type": "execute_result"
    }
   ],
   "source": [
    "'''\n",
    "models_hyper = [ DecisionTreeRegressor() , SVR() , ElasticNetCV() ]\n",
    "params = {\n",
    "    0 : dict(criterion = [ 'squared_error' , 'friedman_mse' ] ,\n",
    "     splitter =  [ 'best' ,  'random' ] ),\n",
    "    1 : dict(kernel = ['linear', 'poly', 'rbf'],\n",
    "     gamma = ['scale', 'auto']),\n",
    "    2 : dict(l1_ratio = [.1, .5, .7, .9, .95, 1],\n",
    "     selection = ['cyclic', 'random'])\n",
    "} \n",
    "'''"
   ]
  },
  {
   "cell_type": "code",
   "execution_count": 21,
   "id": "d1ce39eb-9edc-48a7-b11f-788a346ce197",
   "metadata": {},
   "outputs": [],
   "source": [
    "#performance_result_hyperparameter_tunning = performance_result_hyperparameter_tunning(models_hyper , params)"
   ]
  },
  {
   "cell_type": "code",
   "execution_count": 22,
   "id": "b108c73a-f986-439a-8b75-b0d9959a7d76",
   "metadata": {},
   "outputs": [],
   "source": [
    "#performance_result_hyperparameter_tunning"
   ]
  },
  {
   "cell_type": "markdown",
   "id": "36a22c4a-7873-4390-a0e5-8ae226fa0dfa",
   "metadata": {},
   "source": [
    "---\n",
    "# Model Evaluation of Ensemblers"
   ]
  },
  {
   "cell_type": "code",
   "execution_count": 24,
   "id": "4337aba1-24a7-49e3-a463-c84647095386",
   "metadata": {},
   "outputs": [],
   "source": [
    "from sklearn import ensemble"
   ]
  },
  {
   "cell_type": "code",
   "execution_count": 25,
   "id": "2c64214c-6f48-4e6a-87fe-52150c2520c3",
   "metadata": {},
   "outputs": [],
   "source": [
    "from sklearn.ensemble import RandomForestRegressor\n",
    "from sklearn.ensemble import AdaBoostRegressor\n",
    "from sklearn.ensemble import BaggingRegressor\n",
    "from sklearn.ensemble import ExtraTreesRegressor\n",
    "from sklearn.ensemble import GradientBoostingRegressor\n",
    "from sklearn.ensemble import HistGradientBoostingRegressor\n",
    "from sklearn.ensemble import StackingRegressor\n",
    "from sklearn.ensemble import VotingRegressor"
   ]
  },
  {
   "cell_type": "code",
   "execution_count": 26,
   "id": "718884b1-2f7c-4602-a177-822ca79c725b",
   "metadata": {},
   "outputs": [],
   "source": [
    "models_ensemble = [ RandomForestRegressor() , AdaBoostRegressor() , \n",
    "                    BaggingRegressor() , ExtraTreesRegressor() , \n",
    "                    GradientBoostingRegressor() , HistGradientBoostingRegressor()\n",
    "                  ]"
   ]
  },
  {
   "cell_type": "code",
   "execution_count": 27,
   "id": "410c90ab-2962-4a2a-a78a-9cef73ac9189",
   "metadata": {},
   "outputs": [],
   "source": [
    "performance_result_ensembler = model_evaluation(models_ensemble)"
   ]
  },
  {
   "cell_type": "code",
   "execution_count": 28,
   "id": "d3e3ff64-e9b3-477f-882f-0a131636598e",
   "metadata": {},
   "outputs": [
    {
     "data": {
      "text/html": [
       "<div>\n",
       "<style scoped>\n",
       "    .dataframe tbody tr th:only-of-type {\n",
       "        vertical-align: middle;\n",
       "    }\n",
       "\n",
       "    .dataframe tbody tr th {\n",
       "        vertical-align: top;\n",
       "    }\n",
       "\n",
       "    .dataframe thead th {\n",
       "        text-align: right;\n",
       "    }\n",
       "</style>\n",
       "<table border=\"1\" class=\"dataframe\">\n",
       "  <thead>\n",
       "    <tr style=\"text-align: right;\">\n",
       "      <th></th>\n",
       "      <th>Model</th>\n",
       "      <th>mean_absolute_error</th>\n",
       "      <th>mean_squared_error</th>\n",
       "      <th>root_mean_squared_error</th>\n",
       "      <th>r2_score</th>\n",
       "    </tr>\n",
       "  </thead>\n",
       "  <tbody>\n",
       "    <tr>\n",
       "      <th>0</th>\n",
       "      <td>(DecisionTreeRegressor(max_features=1.0, rando...</td>\n",
       "      <td>274.309541</td>\n",
       "      <td>105427.015566</td>\n",
       "      <td>324.695266</td>\n",
       "      <td>0.997132</td>\n",
       "    </tr>\n",
       "    <tr>\n",
       "      <th>1</th>\n",
       "      <td>(DecisionTreeRegressor(max_depth=3, random_sta...</td>\n",
       "      <td>288.756869</td>\n",
       "      <td>123192.290624</td>\n",
       "      <td>350.987593</td>\n",
       "      <td>0.996649</td>\n",
       "    </tr>\n",
       "    <tr>\n",
       "      <th>2</th>\n",
       "      <td>(DecisionTreeRegressor(random_state=1726439530...</td>\n",
       "      <td>280.408789</td>\n",
       "      <td>112298.147691</td>\n",
       "      <td>335.109158</td>\n",
       "      <td>0.996945</td>\n",
       "    </tr>\n",
       "    <tr>\n",
       "      <th>3</th>\n",
       "      <td>(ExtraTreeRegressor(random_state=1776628138), ...</td>\n",
       "      <td>285.229775</td>\n",
       "      <td>118068.436758</td>\n",
       "      <td>343.610880</td>\n",
       "      <td>0.996788</td>\n",
       "    </tr>\n",
       "    <tr>\n",
       "      <th>4</th>\n",
       "      <td>([DecisionTreeRegressor(criterion='friedman_ms...</td>\n",
       "      <td>254.871774</td>\n",
       "      <td>86829.283548</td>\n",
       "      <td>294.668090</td>\n",
       "      <td>0.997638</td>\n",
       "    </tr>\n",
       "    <tr>\n",
       "      <th>5</th>\n",
       "      <td>HistGradientBoostingRegressor()</td>\n",
       "      <td>256.293489</td>\n",
       "      <td>88670.432359</td>\n",
       "      <td>297.775809</td>\n",
       "      <td>0.997588</td>\n",
       "    </tr>\n",
       "  </tbody>\n",
       "</table>\n",
       "</div>"
      ],
      "text/plain": [
       "                                               Model  mean_absolute_error  \\\n",
       "0  (DecisionTreeRegressor(max_features=1.0, rando...           274.309541   \n",
       "1  (DecisionTreeRegressor(max_depth=3, random_sta...           288.756869   \n",
       "2  (DecisionTreeRegressor(random_state=1726439530...           280.408789   \n",
       "3  (ExtraTreeRegressor(random_state=1776628138), ...           285.229775   \n",
       "4  ([DecisionTreeRegressor(criterion='friedman_ms...           254.871774   \n",
       "5                    HistGradientBoostingRegressor()           256.293489   \n",
       "\n",
       "   mean_squared_error  root_mean_squared_error  r2_score  \n",
       "0       105427.015566               324.695266  0.997132  \n",
       "1       123192.290624               350.987593  0.996649  \n",
       "2       112298.147691               335.109158  0.996945  \n",
       "3       118068.436758               343.610880  0.996788  \n",
       "4        86829.283548               294.668090  0.997638  \n",
       "5        88670.432359               297.775809  0.997588  "
      ]
     },
     "execution_count": 28,
     "metadata": {},
     "output_type": "execute_result"
    }
   ],
   "source": [
    "performance_result_ensembler"
   ]
  },
  {
   "cell_type": "markdown",
   "id": "de019d76-cc43-46f3-93ed-82f53c6bf85a",
   "metadata": {},
   "source": [
    "---\n",
    "# pickling scaler object"
   ]
  },
  {
   "cell_type": "code",
   "execution_count": 30,
   "id": "34b75c09-e2a9-42ab-903f-b89896118b6f",
   "metadata": {},
   "outputs": [],
   "source": [
    "import pickle as pkl\n",
    "with open('Scaler.pkl' , 'wb') as file:\n",
    "    pkl.dump(scaler , file)"
   ]
  },
  {
   "cell_type": "markdown",
   "id": "f7608d0e-4290-4dfc-8bc2-f041430ffbee",
   "metadata": {},
   "source": [
    "---\n",
    "# pickling GradientBoostingRegressor"
   ]
  },
  {
   "cell_type": "code",
   "execution_count": 32,
   "id": "4bd34440-f418-4e71-97a5-37b4ae1579a2",
   "metadata": {},
   "outputs": [],
   "source": [
    "model = GradientBoostingRegressor().fit(X_train , y_train)\n",
    "with open('model.pkl' , 'wb') as file:\n",
    "    pkl.dump(model , file)"
   ]
  },
  {
   "cell_type": "code",
   "execution_count": 64,
   "id": "a2de2a1b",
   "metadata": {},
   "outputs": [
    {
     "data": {
      "text/plain": [
       "array([[-0.55338227,  1.04408645,  1.46326866,  1.00075028, -1.00225254,\n",
       "        -1.34016524],\n",
       "       [ 1.6166379 ,  1.05787118,  0.87634716,  1.00075028,  0.99775253,\n",
       "        -1.34016524],\n",
       "       [-0.55338227, -0.78928261,  1.46326866,  1.00075028,  0.99775253,\n",
       "         0.44211752],\n",
       "       ...,\n",
       "       [ 0.09762378, -1.03740775,  0.87634716, -0.99925028, -1.00225254,\n",
       "         1.33325889],\n",
       "       [-1.63839235, -1.5198733 ,  0.87634716,  1.00075028,  0.99775253,\n",
       "        -1.34016524],\n",
       "       [ 0.3146258 , -0.51358802,  0.28942566,  1.00075028, -1.00225254,\n",
       "         0.44211752]])"
      ]
     },
     "execution_count": 64,
     "metadata": {},
     "output_type": "execute_result"
    }
   ],
   "source": [
    "X_train"
   ]
  },
  {
   "cell_type": "code",
   "execution_count": 46,
   "id": "941f7161-58b5-4689-be9b-4e7716497c43",
   "metadata": {},
   "outputs": [],
   "source": [
    "with open('model.pkl' , 'rb') as file:\n",
    "    m = pkl.load(file)"
   ]
  },
  {
   "cell_type": "code",
   "execution_count": null,
   "id": "1400cda3-310d-4631-9a9f-736ba02069fc",
   "metadata": {},
   "outputs": [],
   "source": [
    "m.predict([[-0.55338227,  1.04408645,  1.46326866,  1.00075028, -1.00225254,\n",
    "        -1.34016524]"
   ]
  }
 ],
 "metadata": {
  "kernelspec": {
   "display_name": "Python 3 (ipykernel)",
   "language": "python",
   "name": "python3"
  },
  "language_info": {
   "codemirror_mode": {
    "name": "ipython",
    "version": 3
   },
   "file_extension": ".py",
   "mimetype": "text/x-python",
   "name": "python",
   "nbconvert_exporter": "python",
   "pygments_lexer": "ipython3",
   "version": "3.12.4"
  }
 },
 "nbformat": 4,
 "nbformat_minor": 5
}
