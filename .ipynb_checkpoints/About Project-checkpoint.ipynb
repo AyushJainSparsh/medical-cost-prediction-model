{
 "cells": [
  {
   "cell_type": "markdown",
   "id": "31fab3c5-b55e-4159-b0fc-c074546f17ea",
   "metadata": {},
   "source": [
    "# About Dataset\n",
    "\n",
    "This dataset contains detailed information about medical costs for individuals over the period from 2010 to 2020. It includes various attributes such as age, sex, BMI, number of children, smoking status, and region. These attributes are essential in understanding the factors that influence medical costs and can be used for predictive modeling, statistical analysis, and research purposes.\n",
    "\n",
    "Dataset Features:\n",
    "- Age: The age of the individual (ranging from 18 to 65 years).\n",
    "- Sex: Gender of the individual (male or female).\n",
    "- BMI: Body Mass Index of the individual, indicating the level of obesity (ranging from 15 to 40).\n",
    "- Children: Number of children covered by health insurance (ranging from 0 to 5).\n",
    "- Smoker: Smoking status of the individual (yes or no).\n",
    "- Region: Residential area in the US (northeast, northwest, southeast, southwest).\n",
    "- Medical Cost: Annual medical costs incurred by the individual (in USD).\n",
    "\n",
    "This dataset is a comprehensive collection of 10,000 records, providing a robust foundation for various data analysis tasks. It is especially useful for data scientists, researchers, and students who aim to explore and predict medical costs based on different demographic and lifestyle factors."
   ]
  },
  {
   "cell_type": "markdown",
   "id": "ab52f962-0348-4038-ab35-687c17cfb7e4",
   "metadata": {},
   "source": [
    "##### Link : https://www.kaggle.com/datasets/waqi786/medical-costs"
   ]
  },
  {
   "cell_type": "markdown",
   "id": "53fa9403-fd90-4464-8c30-1f517e6e91f3",
   "metadata": {},
   "source": [
    "---\n",
    "# Pre-processing "
   ]
  },
  {
   "cell_type": "markdown",
   "id": "f7be71e9-d0b6-4b3b-826d-f47cef74d2de",
   "metadata": {},
   "source": [
    "In preprocessing we encoded our Sex, Smoker and Region column by Label Encoder so that we Analyze our dataset to give thesis on the Medical Cost of a person based on the other parameters.\n",
    "By Label Encoder, \n",
    "\n",
    "Sex is encoded as :\n",
    "1. 1 is for male\n",
    "2. 0 is for female\n",
    "\n",
    "Smoker is encoded as :\n",
    "1. 1 is for yes\n",
    "2. 0 is for no\n",
    "\n",
    "Region is encoded as :\n",
    "1. 1 is for northwest\n",
    "2. 2 is for southeast\n",
    "3. 3 is for southwest\n",
    "4. 4 is for northeast"
   ]
  },
  {
   "cell_type": "markdown",
   "id": "135f8765-eaea-434e-929b-3d1f6339eb74",
   "metadata": {},
   "source": [
    "There is no null value in this dataset."
   ]
  },
  {
   "cell_type": "markdown",
   "id": "e8d7d09b-2aca-4bcd-8ecd-76a3b4568ffe",
   "metadata": {},
   "source": [
    "---\n",
    "# Model Selection"
   ]
  },
  {
   "cell_type": "markdown",
   "id": "b159c730-7c5f-4c07-a7cd-df35524ebf6b",
   "metadata": {},
   "source": [
    "By model_evalution.ipynb file we evalute various machine learning model and we get to know that the best model for project is GradientBoostingRegressor\n",
    "which is a ensembler machine learning algorithm."
   ]
  }
 ],
 "metadata": {
  "kernelspec": {
   "display_name": "Python 3 (ipykernel)",
   "language": "python",
   "name": "python3"
  },
  "language_info": {
   "codemirror_mode": {
    "name": "ipython",
    "version": 3
   },
   "file_extension": ".py",
   "mimetype": "text/x-python",
   "name": "python",
   "nbconvert_exporter": "python",
   "pygments_lexer": "ipython3",
   "version": "3.12.4"
  }
 },
 "nbformat": 4,
 "nbformat_minor": 5
}
